{
 "nbformat": 4,
 "nbformat_minor": 2,
 "metadata": {
  "language_info": {
   "name": "python",
   "codemirror_mode": {
    "name": "ipython",
    "version": 3
   },
   "version": "3.6.9-final"
  },
  "orig_nbformat": 2,
  "file_extension": ".py",
  "mimetype": "text/x-python",
  "name": "python",
  "npconvert_exporter": "python",
  "pygments_lexer": "ipython3",
  "version": 3,
  "kernelspec": {
   "name": "python36964bit2cccdd7f27254716b536efacc14b70dd",
   "display_name": "Python 3.6.9 64-bit"
  }
 },
 "cells": [
  {
   "cell_type": "code",
   "execution_count": 2,
   "metadata": {},
   "outputs": [
    {
     "name": "stdout",
     "output_type": "stream",
     "text": "aaa\n"
    }
   ],
   "source": [
    "c = \"\"\n",
    "for i in range(3):\n",
    "    c += \"a\"\n",
    "print(c)"
   ]
  },
  {
   "cell_type": "code",
   "execution_count": 15,
   "metadata": {},
   "outputs": [
    {
     "name": "stdout",
     "output_type": "stream",
     "text": "[16, 0, 19, 19]\n"
    }
   ],
   "source": [
    "alphabet = \"ABCDEFGHIJKLMNÑOPQRSTUVWXYZ\"\n",
    "password = \"PASS\"\n",
    "p = []\n",
    "for i in range(len(password)):\n",
    "    p.append(alphabet.find(password[i])) \n",
    "print(p)"
   ]
  },
  {
   "cell_type": "code",
   "execution_count": 21,
   "metadata": {},
   "outputs": [
    {
     "name": "stdout",
     "output_type": "stream",
     "text": "20\n19\n12\n23\n20\n19\n13\n5\n1\n4\n5\n11\n16\n9\n23\n21\n4\n13\n6\n"
    }
   ],
   "source": [
    "message = \"ESTEESUNMENSAJECONÑ\"\n",
    "solution=[]\n",
    "for i in range(len(message)):\n",
    "    #solution.append(alphabet[(alphabet.find(message[i])+p[i])% 27])\n",
    "    print((alphabet.find(message[i])+p[i%len(p)])% 27)\n",
    "#print(solution)"
   ]
  },
  {
   "cell_type": "code",
   "execution_count": null,
   "metadata": {},
   "outputs": [],
   "source": []
  }
 ]
}